{
 "cells": [
  {
   "cell_type": "markdown",
   "id": "0c7c180c-36d2-4e1b-8077-472eee4709b0",
   "metadata": {},
   "source": [
    "# Einfache Quantilplots"
   ]
  },
  {
   "cell_type": "code",
   "execution_count": null,
   "id": "b53997c4-c1de-43a3-995b-84565fca99a0",
   "metadata": {},
   "outputs": [],
   "source": [
    "source(\"util.R\")\n",
    "options(warn = -1)\n",
    "options(repr.plot.width=25, repr.plot.height=10)"
   ]
  },
  {
   "cell_type": "markdown",
   "id": "f631522c-2462-49a6-a254-f12d7738bad1",
   "metadata": {},
   "source": [
    "## Dichte, Verteilung & Quantilplot"
   ]
  },
  {
   "cell_type": "code",
   "execution_count": null,
   "id": "c24904e9-a17b-4ca6-90b1-2818b231b924",
   "metadata": {},
   "outputs": [],
   "source": [
    "single_plot <- function(data, color, title, aspect_ratio=1) {\n",
    "  gg <- ggplot(data, aes(x = x, y = y)) +\n",
    "      geom_line(color = color, linewidth=1) +\n",
    "      labs(x = NULL, y = NULL) +   \n",
    "      ggtitle(title) +\n",
    "      theme_jupyter() +    \n",
    "      theme(aspect.ratio=aspect_ratio)\n",
    "}"
   ]
  },
  {
   "cell_type": "code",
   "execution_count": null,
   "id": "0531196c-688f-4860-83c6-1abd1e69fd66",
   "metadata": {},
   "outputs": [],
   "source": [
    "combined_plot <- function(distribution, pdf_data, cdf_data, quantile_data) {\n",
    "  pdf_graph <- single_plot(pdf_data, \"blue\", \"Dichte\")\n",
    "  cdf_graph <- single_plot(cdf_data, \"green\", \"Verteilung\")\n",
    "  quantile_graph <- single_plot(quantile_data, \"red\", \"Quantilplot\")\n",
    "\n",
    "  (pdf_graph | cdf_graph | quantile_graph) +\n",
    "    plot_annotation( title = distribution, theme = theme(plot.title = element_text(size = 40, hjust = 0.5) ) )\n",
    "}"
   ]
  },
  {
   "cell_type": "code",
   "execution_count": null,
   "id": "00d177e2-bd60-4d97-a8f2-4e2f1993efd6",
   "metadata": {},
   "outputs": [],
   "source": [
    "combined_plot2 <- function(distribution, x, dfunc, pfunc, qfunc) {\n",
    "  pdf_data  <- data.frame(x = x, y = dfunc(x))\n",
    "  cdf_data  <- data.frame(x = x, y = pfunc(x))\n",
    "  p <- seq(0, 1, length=100)\n",
    "  quantile_data  <- data.frame(x = p, y = qfunc(p))\n",
    "\n",
    "  combined_plot(distribution, pdf_data, cdf_data, quantile_data)\n",
    "}"
   ]
  },
  {
   "cell_type": "markdown",
   "id": "cf674a4d-b142-48ca-ad48-a66a9f643820",
   "metadata": {},
   "source": [
    "## Beispiel 1 : Standardnormalverteilung"
   ]
  },
  {
   "cell_type": "code",
   "execution_count": null,
   "id": "1ede3270-4ba2-4f23-a887-d003e3cb6e08",
   "metadata": {},
   "outputs": [],
   "source": [
    "x <- seq(-3, 3, length=100)\n",
    "combined_plot2(\"Normalverteilung\", \n",
    "               x <- seq(-3, 3, length=100), \n",
    "               dnorm, \n",
    "               pnorm, \n",
    "               qnorm)"
   ]
  },
  {
   "cell_type": "markdown",
   "id": "4f79cb87-f445-42c5-98e4-816c12e69809",
   "metadata": {},
   "source": [
    "## Beispiel 2 : $\\chi^2$-Verteilung - Rechtsschief"
   ]
  },
  {
   "cell_type": "code",
   "execution_count": null,
   "id": "a42eb409-72c1-444e-a7a4-510a56fc3ff7",
   "metadata": {},
   "outputs": [],
   "source": [
    "df <- 5\n",
    "combined_plot2(sprintf(\"Chi-Quadrat-Verteilung df=%d\",df), \n",
    "               seq(0, 20, length=100), \n",
    "               partial_func(dchisq, df=df), \n",
    "               partial_func(pchisq, df=df),  \n",
    "               partial_func(qchisq, df=df))"
   ]
  },
  {
   "cell_type": "markdown",
   "id": "7ace2380-71e0-4890-8344-d687dccc593d",
   "metadata": {},
   "source": [
    "## Beispiel 3 : Bimodale Mischverteilung "
   ]
  },
  {
   "cell_type": "markdown",
   "id": "540a702c-624f-4ebd-94ae-37a46a8f5827",
   "metadata": {},
   "source": [
    "s.a. Oldford - Figure 3 (iv)\n",
    "$$\n",
    "X \\sim \\frac{1}{2} N(0,1) + \\frac{1}{2} N(6,1)\n",
    "$$"
   ]
  },
  {
   "cell_type": "markdown",
   "id": "162833ff-44ce-4b29-8328-8c0f6f279dd9",
   "metadata": {},
   "source": [
    "### Simulation Mischverteilung"
   ]
  },
  {
   "cell_type": "code",
   "execution_count": null,
   "id": "51fce50f-f790-47ae-a9f3-2359b6515442",
   "metadata": {},
   "outputs": [],
   "source": [
    "mu1 <- 0\n",
    "sigma1 <- 1\n",
    "mu2 <- 6\n",
    "sigma2 <- 1\n",
    "\n",
    "a <- 0.5\n",
    "b <- 0.5\n",
    "\n",
    "n <- 100000\n",
    "set.seed(123)\n",
    "component1 <- rnorm(n, mean = mu1, sd = sigma1)\n",
    "component2 <- rnorm(n, mean = mu2, sd = sigma2)\n",
    "mixture_data <- ifelse(runif(n) < 0.5, component1, component2) # generiere Werte aus [0,1] der Gleichverteilung\n",
    "\n",
    "# Empirische Dichtefunktion\n",
    "density_estimate <- density(mixture_data)\n",
    "empirical_pdf <- approxfun(density_estimate$x, density_estimate$y)\n",
    "\n",
    "# Empirische Verteilungsfunktion\n",
    "empirical_cdf = ecdf(mixture_data)\n",
    "\n",
    "# Auswertung PDF und CDF\n",
    "x <- seq(-3, 10, length=100)\n",
    "pdf_data <- data.frame(x = x, y = empirical_pdf(x))\n",
    "cdf_data <- data.frame(x = x, y = empirical_cdf(x))\n",
    "\n",
    "# Quantile\n",
    "p <- seq(0, 1, length=100)\n",
    "quantile_data <- data.frame(x = p, y = quantile(mixture_data, p))"
   ]
  },
  {
   "cell_type": "markdown",
   "id": "f68c0b12-5c22-466f-9b0e-d5cf197202ad",
   "metadata": {},
   "source": [
    "### Plot"
   ]
  },
  {
   "cell_type": "code",
   "execution_count": null,
   "id": "df2f03d1-131c-4732-be95-7aff51b0178b",
   "metadata": {},
   "outputs": [],
   "source": [
    "combined_plot(\"Summe von Normalverteilungen\", \n",
    "              pdf_data, \n",
    "              cdf_data, \n",
    "              quantile_data)"
   ]
  }
 ],
 "metadata": {
  "kernelspec": {
   "display_name": "R",
   "language": "R",
   "name": "ir"
  },
  "language_info": {
   "codemirror_mode": "r",
   "file_extension": ".r",
   "mimetype": "text/x-r-source",
   "name": "R",
   "pygments_lexer": "r",
   "version": "4.4.2"
  }
 },
 "nbformat": 4,
 "nbformat_minor": 5
}
