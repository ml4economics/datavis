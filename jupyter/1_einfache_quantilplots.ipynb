{
 "cells": [
  {
   "cell_type": "markdown",
   "id": "0c7c180c-36d2-4e1b-8077-472eee4709b0",
   "metadata": {},
   "source": [
    "# Einfache Quantilplots"
   ]
  },
  {
   "cell_type": "markdown",
   "id": "f631522c-2462-49a6-a254-f12d7738bad1",
   "metadata": {},
   "source": [
    "## Hilfsfunktionen"
   ]
  },
  {
   "cell_type": "code",
   "execution_count": null,
   "id": "b53997c4-c1de-43a3-995b-84565fca99a0",
   "metadata": {},
   "outputs": [],
   "source": [
    "library(ggplot2)\n",
    "library(patchwork)"
   ]
  },
  {
   "cell_type": "code",
   "execution_count": null,
   "id": "c24904e9-a17b-4ca6-90b1-2818b231b924",
   "metadata": {},
   "outputs": [],
   "source": [
    "single_plot <- function(data, color, title, aspect_ratio=1) {\n",
    "  gg <- ggplot(data, aes(x = x, y = y)) +\n",
    "      geom_line(color = color, linewidth=1) +\n",
    "      labs(x = NULL, y = NULL) +   \n",
    "      ggtitle(title) +\n",
    "      theme_bw() +    \n",
    "      theme(plot.title = element_text(size=20, color = \"black\", hjust = 0.5), \n",
    "            axis.text = element_text(size = 12, color = \"black\"),\n",
    "            aspect.ratio=aspect_ratio)\n",
    "}"
   ]
  },
  {
   "cell_type": "code",
   "execution_count": null,
   "id": "0531196c-688f-4860-83c6-1abd1e69fd66",
   "metadata": {},
   "outputs": [],
   "source": [
    "combined_plot <- function(x, dfunc, pfunc, qfunc, distribution_name) {\n",
    "  pdf_data  <- data.frame(x = x, y = dfunc(x))\n",
    "  pdf_graph <- single_plot(pdf_data, \"blue\", \"Dichte\")\n",
    "\n",
    "  cdf_data  <- data.frame(x = x, y = pfunc(x))\n",
    "  cdf_graph <- single_plot(cdf_data, \"green\", \"Verteilung\")\n",
    "\n",
    "  p <- seq(0, 1, length=100)\n",
    "  quantiles  <- data.frame(x = p, y = qfunc(p))\n",
    "  quantile_graph <- single_plot(quantiles, \"red\", \"Quantilplot\")\n",
    "\n",
    "  (pdf_graph | cdf_graph | quantile_graph) +\n",
    "    plot_annotation( title = distribution_name, theme = theme(plot.title = element_text(size = 30, hjust = 0.5) ) )\n",
    "}"
   ]
  },
  {
   "cell_type": "markdown",
   "id": "cf674a4d-b142-48ca-ad48-a66a9f643820",
   "metadata": {},
   "source": [
    "## Beispiel 1 : Standardnormalverteilung"
   ]
  },
  {
   "cell_type": "code",
   "execution_count": null,
   "id": "1ede3270-4ba2-4f23-a887-d003e3cb6e08",
   "metadata": {},
   "outputs": [],
   "source": [
    "x <- seq(-3, 3, length=100)\n",
    "combined_plot(x, dnorm, pnorm, qnorm, \"Normalverteilung\")"
   ]
  },
  {
   "cell_type": "markdown",
   "id": "4f79cb87-f445-42c5-98e4-816c12e69809",
   "metadata": {},
   "source": [
    "## Beispiel 2 : Chi-Quadrat-Verteilung - Rechtsschief"
   ]
  },
  {
   "cell_type": "code",
   "execution_count": null,
   "id": "a42eb409-72c1-444e-a7a4-510a56fc3ff7",
   "metadata": {},
   "outputs": [],
   "source": [
    "df <- 5\n",
    "\n",
    "pdf_func <- function(x) {\n",
    "  dchisq(x = x, df=df)\n",
    "}\n",
    "cdf_func <- function(x) {\n",
    "  pchisq(q = x, df=df)\n",
    "}\n",
    "quantil_func <- function(x) {\n",
    "  qchisq(p = x, df=df)\n",
    "}\n",
    "\n",
    "x <- seq(0, 20, length=100)\n",
    "combined_plot(x, pdf_func, cdf_func, quantil_func, \"Chi-Quadrat-Verteilung\")"
   ]
  },
  {
   "cell_type": "markdown",
   "id": "7ace2380-71e0-4890-8344-d687dccc593d",
   "metadata": {},
   "source": [
    "## Beispiel 3 : Bimodale Mischverteilung "
   ]
  },
  {
   "cell_type": "markdown",
   "id": "540a702c-624f-4ebd-94ae-37a46a8f5827",
   "metadata": {},
   "source": [
    "s.a. Oldford - Figure 3 (iv)\n",
    "$$\n",
    "Y \\sim \\frac{1}{2} N(0,1) + \\frac{1}{2} N(6,1)\n",
    "$$"
   ]
  },
  {
   "cell_type": "markdown",
   "id": "162833ff-44ce-4b29-8328-8c0f6f279dd9",
   "metadata": {},
   "source": [
    "Simulation Mischverteilung"
   ]
  },
  {
   "cell_type": "code",
   "execution_count": null,
   "id": "51fce50f-f790-47ae-a9f3-2359b6515442",
   "metadata": {},
   "outputs": [],
   "source": [
    "mu1 <- 0\n",
    "sigma1 <- 1\n",
    "mu2 <- 6\n",
    "sigma2 <- 1\n",
    "\n",
    "a <- 0.5\n",
    "b <- 0.5\n",
    "\n",
    "n <- 100000\n",
    "set.seed(123)\n",
    "component1 <- rnorm(n, mean = mu1, sd = sigma1)\n",
    "component2 <- rnorm(n, mean = mu2, sd = sigma2)\n",
    "mixture_data <- ifelse(runif(n) < 0.5, component1, component2) # generiere Werte aus [0,1] der Gleichverteilung"
   ]
  },
  {
   "cell_type": "markdown",
   "id": "a2b3ba4d-354e-4f67-8e6e-bfbbeac57e45",
   "metadata": {},
   "source": [
    "Empirische Dichtefunktion"
   ]
  },
  {
   "cell_type": "code",
   "execution_count": null,
   "id": "117d1bba-7df1-4ad7-9313-3167ea5c6bd1",
   "metadata": {},
   "outputs": [],
   "source": [
    "density_estimate <- density(mixture_data)\n",
    "empirical_pdf <- approxfun(density_estimate$x, density_estimate$y)"
   ]
  },
  {
   "cell_type": "markdown",
   "id": "32e88acf-ffd0-4ac0-924b-45d82330c0b9",
   "metadata": {},
   "source": [
    "Empirische Verteilungsfunktion"
   ]
  },
  {
   "cell_type": "code",
   "execution_count": null,
   "id": "e0ec8520-2489-4036-8b31-3569aa8e4fc0",
   "metadata": {},
   "outputs": [],
   "source": [
    "empirical_cdf = ecdf(mixture_data)"
   ]
  },
  {
   "cell_type": "markdown",
   "id": "6db96511-d47d-4381-b85a-f37e67131928",
   "metadata": {},
   "source": [
    "Auswertung PDF und CDF"
   ]
  },
  {
   "cell_type": "code",
   "execution_count": null,
   "id": "2e08e44c-9d44-45af-ba15-a884017285c4",
   "metadata": {},
   "outputs": [],
   "source": [
    "x <- seq(-3, 10, length=100)\n",
    "pdf <- empirical_pdf(x)\n",
    "# alternativ : pdf <- a * dnorm(x, mean = mu1, sd = sigma1) + b * dnorm(x, mean = mu2, sd = sigma2)\n",
    "cdf <- empirical_cdf(x)\n",
    "# alternativ : cdf <- a * pnorm(x, mean = mu1, sd = sigma1) + b * pnorm(x, mean = mu2, sd = sigma2)"
   ]
  },
  {
   "cell_type": "markdown",
   "id": "6c8206df-4ef0-477e-8fa0-3c46d670811d",
   "metadata": {},
   "source": [
    "Quantile"
   ]
  },
  {
   "cell_type": "code",
   "execution_count": null,
   "id": "9ce03a48-e4c4-456d-a9f4-8e94afc2a870",
   "metadata": {},
   "outputs": [],
   "source": [
    "p <- seq(0, 1, length=100)\n",
    "quantiles <- quantile(mixture_data, p)"
   ]
  },
  {
   "cell_type": "markdown",
   "id": "f68c0b12-5c22-466f-9b0e-d5cf197202ad",
   "metadata": {},
   "source": [
    "Plot"
   ]
  },
  {
   "cell_type": "code",
   "execution_count": null,
   "id": "737f2f03-5c16-469c-a1b9-edbcbff1261f",
   "metadata": {},
   "outputs": [],
   "source": [
    "value <- quantilplot(\"Summe von Normalverteilungen\", x, pdf, cdf, p, quantiles)"
   ]
  },
  {
   "cell_type": "code",
   "execution_count": null,
   "id": "df2f03d1-131c-4732-be95-7aff51b0178b",
   "metadata": {},
   "outputs": [],
   "source": []
  }
 ],
 "metadata": {
  "kernelspec": {
   "display_name": "R",
   "language": "R",
   "name": "ir"
  },
  "language_info": {
   "codemirror_mode": "r",
   "file_extension": ".r",
   "mimetype": "text/x-r-source",
   "name": "R",
   "pygments_lexer": "r",
   "version": "4.4.2"
  }
 },
 "nbformat": 4,
 "nbformat_minor": 5
}
