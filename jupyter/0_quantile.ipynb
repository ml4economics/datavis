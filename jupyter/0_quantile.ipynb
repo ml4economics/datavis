{
 "cells": [
  {
   "cell_type": "code",
   "execution_count": null,
   "id": "97167830-dae6-4fb9-9e69-1a17100610ce",
   "metadata": {},
   "outputs": [],
   "source": [
    "source(\"util.R\")\n",
    "options(warn = -1)\n",
    "options(repr.plot.width=25, repr.plot.height=10)"
   ]
  },
  {
   "cell_type": "code",
   "execution_count": null,
   "id": "8e9014e0-bef6-4208-9616-db83c04d00b2",
   "metadata": {},
   "outputs": [],
   "source": [
    "# Daten\n",
    "mean <- 0\n",
    "sd <- 1\n",
    "x <- seq(-3, 3, length.out = 1000)\n",
    "y <- dnorm(x, mean, sd)\n",
    "data <- data.frame(x = x, y = y)\n",
    "\n",
    "quantiles <- c(-2, -1, 0, 1, 2)\n",
    "quantile_values <- pnorm(quantiles)\n",
    "quantile_data <- data.frame( quantiles = quantiles, values = quantile_values, labels = paste0(quantiles, \"σ\") ) \n",
    "quantile_data$labels <- gsub(\"1σ\", \"σ\", quantile_data$labels)\n",
    "quantile_data$labels <- gsub(\"0σ\", \"0\", quantile_data$labels)\n",
    "\n",
    "# Dichteplot\n",
    "dist_plot <- ggplot(data, aes(x = x, y = y)) +\n",
    "  geom_line(color = \"blue\", linewidth=1) +\n",
    "  geom_vline(xintercept = quantiles, linetype = \"dashed\", color = \"red\", linewidth=1) +\n",
    "  geom_vline(xintercept = 0, linetype = \"solid\", color = \"black\") +\n",
    "  # interval [-σ,σ]\n",
    "  annotate(\"segment\", x = -1, xend = 1, y = -0.05, yend = -0.05, \n",
    "           arrow = arrow(length = unit(0.2, \"cm\"), ends = \"both\"), color = \"red\") +\n",
    "  annotate(\"text\", x = 0, y = -0.055, label = \"68.2%\", color = \"red\", vjust = 1, hjust = 0.5, size=8) +\n",
    "  # interval [-2σ,2σ]\n",
    "  annotate(\"segment\", x = -2, xend = 2, y = -0.1, yend = -0.1, \n",
    "           arrow = arrow(length = unit(0.2, \"cm\"), ends = \"both\"), color = \"red\") +\n",
    "  annotate(\"text\", x = 0, y = -0.11, label = \"95.4%\", color = \"red\", vjust = 1, hjust = 0.5, size=8) +\n",
    "  # σ labels\n",
    "  annotate(\"text\", x = quantiles, y = rep(0, length(quantiles)), \n",
    "           label = quantile_data$labels, color = \"red\", vjust = 1, hjust = -0.3, size=8) +\n",
    "  labs(title = \"Konfidenzintervalle Normalverteilung\",\n",
    "       x = NULL,\n",
    "       y = \"p\") +\n",
    "  scale_y_continuous(breaks = seq(0,0.4,0.1), minor_breaks = NULL) +\n",
    "  theme_jupyter() +\n",
    "  theme(axis.text.x = element_blank(),\n",
    "        axis.ticks.x = element_blank()) \n",
    "\n",
    "# Quantilplot\n",
    "custom_breaks <- quantile_values\n",
    "custom_labels <- format(round(quantile_values, 3), drop0trailing = TRUE)\n",
    "\n",
    "quantile_plot <- ggplot(quantile_data, aes(x = quantiles, y = values)) +\n",
    "  geom_line(color = \"blue\", linewidth=1) +\n",
    "  geom_point(color = \"red\", size=5) +\n",
    "  geom_hline(yintercept = quantile_values, linetype = \"dashed\", color = \"red\", linewidth=1) +\n",
    "  scale_x_continuous(breaks = quantiles, labels = quantile_data$labels) +\n",
    "  scale_y_continuous(labels = custom_labels, breaks = custom_breaks, minor_breaks = NULL) +\n",
    "  labs(title = \"p Werte der σ-Werte\",\n",
    "       x = \"Quantile\",\n",
    "       y = \"CDF\") +\n",
    "  theme_jupyter()\n",
    "\n",
    "combined_plot <- dist_plot | quantile_plot\n",
    "print(combined_plot)"
   ]
  },
  {
   "cell_type": "markdown",
   "id": "b2a85321-55d4-4003-bc3e-e80a2e27f33a",
   "metadata": {},
   "source": [
    "## Median vs Erwartungswert einer $\\chi^2$-Verteilung"
   ]
  },
  {
   "cell_type": "markdown",
   "id": "623ce674-e163-4fb7-9ac2-a2f7aa79a1b7",
   "metadata": {},
   "source": [
    "### Daten"
   ]
  },
  {
   "cell_type": "code",
   "execution_count": null,
   "id": "482f4029-a829-4e1d-8c2a-4b0f54179869",
   "metadata": {},
   "outputs": [],
   "source": [
    "df <- 5\n",
    "\n",
    "# Dichte\n",
    "x_values <- seq(0, 20, length.out = 1000)\n",
    "\n",
    "density_data <- data.frame(x = x_values, y = dchisq(x_values, df = df))\n",
    "cdf_data <- data.frame(x = x_values, y = pchisq(x_values, df = df))\n",
    "\n",
    "median <- qchisq(0.5, df = df)\n",
    "# Mittelwert einer Chi-Quadrat Verteilung = df\n",
    "mean <- df"
   ]
  },
  {
   "cell_type": "markdown",
   "id": "19d19767-cfc5-46f9-8427-16173ed21cc7",
   "metadata": {},
   "source": [
    "### Plots"
   ]
  },
  {
   "cell_type": "code",
   "execution_count": null,
   "id": "b8ff0d71-a3e0-4a97-85e4-b111ac478b26",
   "metadata": {},
   "outputs": [],
   "source": [
    "density_plot <- ggplot(density_data, aes(x = x, y = y)) +\n",
    "  geom_line() +\n",
    "  geom_vline(xintercept = median, linetype = \"dashed\", color = \"blue\", linewidth=1) +\n",
    "  geom_vline(xintercept = mean, linetype = \"dashed\", color = \"red\", linewidth=1) +\n",
    "  annotate(\"text\", x = median, y = 0.05, label = \"Median\", hjust = 1.1, color = \"blue\", size=7) +\n",
    "  annotate(\"text\", x = mean, y = 0.03, label = \"Erwartungswert\", hjust = -0.1, color = \"red\", size=7) +\n",
    "  labs(title=\"Dichte\", x = \"x\", y = \"p\") +\n",
    "  theme_jupyter() +    \n",
    "  theme(aspect.ratio=0.7)\n",
    "\n",
    "cdf_plot <- ggplot(cdf_data, aes(x = x, y = y)) +\n",
    "  geom_line() +\n",
    "  geom_vline(xintercept = median, color = \"blue\", linetype = \"dashed\", linewidth=1) +\n",
    "  geom_vline(xintercept = mean, color = \"red\", linetype = \"dashed\", linewidth=1) +\n",
    "  annotate(\"text\", x = median, y = 0.75, label = \"Median\", hjust = 1.1, color = \"blue\", size=7) +\n",
    "  annotate(\"text\", x = mean, y = 0.25, label = \"Erwartungswert\", hjust = -0.1, color = \"red\", size=7) +\n",
    "  geom_hline(yintercept = 0.5, linetype = \"dashed\") +\n",
    "  labs(title=\"Verteilung\", x = \"x\", y = \"p\") +\n",
    "  theme_jupyter() + \n",
    "  theme(aspect.ratio=0.7)\n",
    "\n",
    "median_plot = density_plot + cdf_plot\n",
    "print(median_plot)"
   ]
  },
  {
   "cell_type": "code",
   "execution_count": null,
   "id": "9f8ca632-6c1d-46b7-8b37-369fe0613b0b",
   "metadata": {},
   "outputs": [],
   "source": []
  }
 ],
 "metadata": {
  "kernelspec": {
   "display_name": "R",
   "language": "R",
   "name": "ir"
  },
  "language_info": {
   "codemirror_mode": "r",
   "file_extension": ".r",
   "mimetype": "text/x-r-source",
   "name": "R",
   "pygments_lexer": "r",
   "version": "4.4.2"
  }
 },
 "nbformat": 4,
 "nbformat_minor": 5
}
