{
 "cells": [
  {
   "cell_type": "code",
   "execution_count": null,
   "id": "b53997c4-c1de-43a3-995b-84565fca99a0",
   "metadata": {},
   "outputs": [],
   "source": [
    "graphplot <- function(title, x, y, color) {\n",
    "  plot(x, y, type = \"l\", col = color)\n",
    "  title(main=title, cex.main=3, font.main=1)\n",
    "}"
   ]
  },
  {
   "cell_type": "code",
   "execution_count": null,
   "id": "c24904e9-a17b-4ca6-90b1-2818b231b924",
   "metadata": {},
   "outputs": [],
   "source": [
    "quantilplot <- function(title, x, pdf, cdf, p, quantiles) {\n",
    "    options(repr.plot.width=20, repr.plot.height=10)\n",
    "    par(mar=c(1,1,1,1))\n",
    "    layout(matrix(c(1, 2, 3, 1, 4, 4), nrow=3, ncol = 2), heights=c(1,3,3))\n",
    "    plot.new()\n",
    "    text(0.5,0.5,title,cex=4)\n",
    "    \n",
    "    par(mar=c(3,3,4,2))\n",
    "    graphplot(\"Dichtefunktion\", x, pdf, \"blue\")\n",
    "    graphplot(\"Verteilungsfunktion\", x, cdf, \"red\")\n",
    "    graphplot(\"Quantilplot\", p, quantiles, \"green\")\n",
    "}"
   ]
  },
  {
   "cell_type": "code",
   "execution_count": null,
   "id": "1ede3270-4ba2-4f23-a887-d003e3cb6e08",
   "metadata": {},
   "outputs": [],
   "source": [
    "x <- seq(-3, 3, length=100)\n",
    "pdf <- dnorm(x)\n",
    "cdf <- pnorm(x)\n",
    "\n",
    "p <- seq(0, 1, length=100)\n",
    "quantiles <- qnorm(p)\n",
    "\n",
    "value <- quantilplot(\"Standardnormalverteilung\", x, pdf, cdf, p, quantiles)"
   ]
  },
  {
   "cell_type": "code",
   "execution_count": null,
   "id": "a42eb409-72c1-444e-a7a4-510a56fc3ff7",
   "metadata": {},
   "outputs": [],
   "source": [
    "x <- seq(0, 20, length=100)\n",
    "df <- 5\n",
    "pdf <- dchisq(x, df)\n",
    "cdf <- pchisq(x, df)\n",
    "\n",
    "p <- seq(0, 1, length=100)\n",
    "quantiles <- qchisq(p, df)\n",
    "\n",
    "value <- quantilplot(\"Chi-Quadrat-Verteilung\", x, pdf, cdf, p, quantiles)"
   ]
  },
  {
   "cell_type": "code",
   "execution_count": null,
   "id": "9f15993f-58d1-48ba-9d87-ccf4ff0c8da2",
   "metadata": {},
   "outputs": [],
   "source": [
    "mu1 <- 0\n",
    "sigma1 <- 1\n",
    "mu2 <- 6\n",
    "sigma2 <- 1\n",
    "\n",
    "a <- 0.5\n",
    "b <- 0.5\n",
    "\n",
    "mu_z <- a * mu1 + b * mu2\n",
    "sigma_z <- sqrt(a^2 * sigma1^2 + b^2 * sigma2^2)\n",
    "\n",
    "x <- seq(-3, 10, length=100)\n",
    "pdf <- a * dnorm(x, mean = mu1, sd = sigma1) + b * dnorm(x, mean = mu2, sd = sigma2)\n",
    "cdf <- a * pnorm(x, mean = mu1, sd = sigma1) + b * pnorm(x, mean = mu2, sd = sigma2)\n",
    "\n",
    "# Number of samples to simulate\n",
    "n <- 100000\n",
    "\n",
    "# Simulate data from the mixture distribution\n",
    "set.seed(123)  # For reproducibility\n",
    "component1 <- rnorm(n, mean = mu1, sd = sigma1)\n",
    "component2 <- rnorm(n, mean = mu2, sd = sigma2)\n",
    "mixture_data <- ifelse(runif(n) < 0.5, component1, component2)\n",
    "\n",
    "p <- seq(0, 1, length=100)\n",
    "quantiles <- quantile(mixture_data, p)\n",
    "\n",
    "value <- quantilplot(\"Summe von Normalverteilungen\", x, pdf, cdf, p, quantiles)"
   ]
  }
 ],
 "metadata": {
  "kernelspec": {
   "display_name": "R",
   "language": "R",
   "name": "ir"
  },
  "language_info": {
   "codemirror_mode": "r",
   "file_extension": ".r",
   "mimetype": "text/x-r-source",
   "name": "R",
   "pygments_lexer": "r",
   "version": "4.4.1"
  }
 },
 "nbformat": 4,
 "nbformat_minor": 5
}
