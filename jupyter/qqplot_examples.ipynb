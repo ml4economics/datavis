{
 "cells": [
  {
   "cell_type": "code",
   "execution_count": null,
   "id": "32bb3968-4678-45e9-bd05-4f086b5f73b3",
   "metadata": {},
   "outputs": [],
   "source": [
    "require(graphics)\n",
    "\n",
    "y <- rt(200, df = 5)\n",
    "qqnorm(y); qqline(y, col = 2)"
   ]
  },
  {
   "cell_type": "code",
   "execution_count": null,
   "id": "4a1ee350-bbe3-4317-a30b-d07f606150d6",
   "metadata": {},
   "outputs": [],
   "source": [
    "qqplot(y, rt(300, df = 5))"
   ]
  },
  {
   "cell_type": "code",
   "execution_count": null,
   "id": "e7c3f34d-91ac-4546-a5ff-e16d225d2159",
   "metadata": {},
   "outputs": [],
   "source": [
    "qqnorm(precip, ylab = \"Precipitation [in/yr] for 70 US cities\")"
   ]
  },
  {
   "cell_type": "code",
   "execution_count": null,
   "id": "84af17a9-9413-4af3-8d9f-1b991d6314f6",
   "metadata": {},
   "outputs": [],
   "source": [
    "## \"QQ-Chisquare\" : --------------------------\n",
    "y <- rchisq(500, df = 3)\n",
    "## Q-Q plot for Chi^2 data against true theoretical distribution:\n",
    "qqplot(qchisq(ppoints(500), df = 3), y,\n",
    "       main = expression(\"Q-Q plot for\" ~~ {chi^2}[nu == 3]))\n",
    "qqline(y, distribution = function(p) qchisq(p, df = 3),\n",
    "       probs = c(0.1, 0.6), col = 2)\n",
    "mtext(\"qqline(*, dist = qchisq(., df=3), prob = c(0.1, 0.6))\")\n",
    "## (Note that the above uses ppoints() with a = 1/2, giving the\n",
    "## probability points for quantile type 5: so theoretically, using\n",
    "## qqline(qtype = 5) might be preferable.) "
   ]
  },
  {
   "cell_type": "code",
   "execution_count": null,
   "id": "77773b5c-c1c0-4aa2-8333-79d769158c76",
   "metadata": {},
   "outputs": [],
   "source": [
    "## Figure 1 in Switzer (1976), knee angle data\n",
    "switzer <- data.frame(\n",
    "  angle = c(-31, -30, -25, -25, -23, -23, -22, -20, -20, -18,\n",
    "            -18, -18, -16, -15, -15, -14, -13, -11, -10, - 9,\n",
    "            - 8, - 7, - 7, - 7, - 6, - 6, - 4, - 4, - 3, - 2,\n",
    "            - 2, - 1,   1,   1,   4,   5,  11,  12,  16,  34,\n",
    "            -31, -20, -18, -16, -16, -16, -15, -14, -14, -14,\n",
    "            -14, -13, -13, -11, -11, -10, - 9, - 9, - 8, - 7,\n",
    "            - 7, - 6, - 6,  -5, - 5, - 5, - 4, - 2, - 2, - 2,\n",
    "            0,   0,   1,   1,   2,   4,   5,   5,   6,  17),\n",
    "  sex = gl(2, 40, labels = c(\"Female\", \"Male\")))\n",
    "\n",
    "ks.test(angle ~ sex, data = switzer)\n",
    "d <- with(switzer, split(angle, sex))\n",
    "with(d, qqplot(Female, Male, pch = 19, xlim = c(-31, 31), ylim = c(-31, 31),\n",
    "               conf.level = 0.945, \n",
    "               conf.args = list(col = \"lightgrey\", exact = TRUE))\n",
    ")\n",
    "abline(a = 0, b = 1)"
   ]
  },
  {
   "cell_type": "code",
   "execution_count": null,
   "id": "7257688b-665b-4e12-ba4d-bc6a4ff9fdaf",
   "metadata": {},
   "outputs": [],
   "source": [
    "## agreement with ks.test\n",
    "set.seed(1)\n",
    "x <- rnorm(50)\n",
    "y <- rnorm(50, mean = .5, sd = .95)\n",
    "ex <- TRUE\n",
    "### p = 0.112\n",
    "(pval <- ks.test(x, y, exact = ex)$p.value)\n",
    "## 88.8% confidence band with bisecting line\n",
    "## touching the lower bound\n",
    "qqplot(x, y, pch = 19, conf.level = 1 - pval, \n",
    "       conf.args = list(exact = ex, col = \"lightgrey\"))\n",
    "abline(a = 0, b = 1)"
   ]
  }
 ],
 "metadata": {
  "kernelspec": {
   "display_name": "R",
   "language": "R",
   "name": "ir"
  },
  "language_info": {
   "codemirror_mode": "r",
   "file_extension": ".r",
   "mimetype": "text/x-r-source",
   "name": "R",
   "pygments_lexer": "r",
   "version": "4.4.1"
  }
 },
 "nbformat": 4,
 "nbformat_minor": 5
}
