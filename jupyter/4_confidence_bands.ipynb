{
 "cells": [
  {
   "cell_type": "code",
   "execution_count": null,
   "id": "bcc8b455-89b7-4351-b5f4-e8e15ef14f9f",
   "metadata": {},
   "outputs": [],
   "source": [
    "source(\"../jupyter/util.R\")\n",
    "options(warn = -1)"
   ]
  },
  {
   "cell_type": "code",
   "execution_count": null,
   "id": "61a6b997-d8e1-4db8-a735-f48bb874b556",
   "metadata": {},
   "outputs": [],
   "source": [
    "default_theme <- function() {\n",
    "  jupyter_theme() + theme_squared()\n",
    "}"
   ]
  },
  {
   "cell_type": "code",
   "execution_count": null,
   "id": "e3adcb8f-22de-4b7f-a9ac-367454e3fc21",
   "metadata": {},
   "outputs": [],
   "source": [
    "add_qq_band <- function(gg, \n",
    "                        dname, dparams, \n",
    "                        band_type=\"ell\", \n",
    "                        conf=0.95, \n",
    "                        band_alpha = 0.9) {\n",
    "  gg + stat_qq_band(distribution=dname, \n",
    "                    dparams = dparams,\n",
    "                    bandType = band_type,\n",
    "                    conf=conf, \n",
    "                    mapping = aes(fill = as.character(conf)), alpha = band_alpha)\n",
    "}"
   ]
  },
  {
   "cell_type": "code",
   "execution_count": null,
   "id": "2054523f-a4f8-4cfc-9638-ecf3324b149c",
   "metadata": {},
   "outputs": [],
   "source": [
    "create_ggplot <- function(title, data, dname, dparams = list(), \n",
    "                          band_type=\"ell\", \n",
    "                          conf_levels = c(0.95),\n",
    "                          band_alpha = 0.9,\n",
    "                          show_scale = FALSE,\n",
    "                          show_labs = FALSE,\n",
    "                          theme = default_theme()) {\n",
    "  gg <- ggplot(data = data, mapping = aes(sample = samples)) + theme\n",
    "  for (conf in conf_levels) {\n",
    "    gg <- add_qq_band(gg, dname, dparams, band_type = band_type, conf=conf, band_alpha = band_alpha)\n",
    "  }  \n",
    "  gg <- gg + stat_qq_line(distribution=dname, dparams = dparams) \n",
    "  gg <- gg + stat_qq_point(distribution=dname, dparams = dparams)\n",
    "  if ( show_scale ) {\n",
    "    gg <- gg + scale_fill_discrete(\"Konfidenzniveau\")\n",
    "  }\n",
    "  else {\n",
    "    gg <- gg + theme(legend.position = \"none\")\n",
    "  }\n",
    "  if ( show_labs) {\n",
    "    gg <- gg + labs(x = \"Theoretische Quantile\", y = \"Stichprobenquantile\") \n",
    "  }\n",
    "  else {\n",
    "    gg <- gg + labs(x = NULL, y = NULL)\n",
    "  }\n",
    "  if ( ! is.null(title)) {\n",
    "    gg <- gg + ggtitle(title)\n",
    "  }\n",
    "  gg\n",
    "}"
   ]
  },
  {
   "cell_type": "code",
   "execution_count": null,
   "id": "a90bae60-a690-4b20-930f-926374496dad",
   "metadata": {
    "jupyter": {
     "source_hidden": true
    }
   },
   "outputs": [],
   "source": [
    "create_ggplot_from_sample_func <- function(title, \n",
    "                                           sample_func, \n",
    "                                           ref_func_name, ref_func_params = list(), \n",
    "                                           band_type=\"ell\", \n",
    "                                           conf_levels = c(0.95),\n",
    "                                           band_alpha = 0.9,\n",
    "                                           show_scale = FALSE,\n",
    "                                           theme = default_scheme()) {\n",
    "  sample <- data.frame(samples = sample_func(100))\n",
    "  create_ggplot(title, \n",
    "                sample, \n",
    "                ref_func_name, ref_func_params, \n",
    "                band_type = band_type, \n",
    "                conf_levels = conf_levels,\n",
    "                band_alpha = band_alpha,\n",
    "                show_scale = show_scale,\n",
    "                theme = theme)\n",
    "}"
   ]
  },
  {
   "cell_type": "code",
   "execution_count": null,
   "id": "383d23e7-38f3-4457-b9f0-c264499c449a",
   "metadata": {},
   "outputs": [],
   "source": [
    "create_ggplots_from_sample_func <- function(title, \n",
    "                                            sample_func, \n",
    "                                            ref_func_name, ref_func_params = list(), \n",
    "                                            band_type=\"ell\", \n",
    "                                            conf_levels = c(0.95),\n",
    "                                            band_alpha = 0.9,\n",
    "                                            theme = default_theme(),\n",
    "                                            count = 1) {\n",
    "  for ( i in 1:count) {\n",
    "    single_sample_plot <- create_ggplot_from_sample_func(title, \n",
    "                                                         sample_func, \n",
    "                                                         ref_func_name, ref_func_params,\n",
    "                                                         band_type = band_type, \n",
    "                                                         conf_levels = conf_levels,\n",
    "                                                         band_alpha = band_alpha,\n",
    "                                                         show_scale = length(conf_levels) > 1,\n",
    "                                                         theme = theme)\n",
    "    if ( i == 1) {\n",
    "      multi_sample_plot <- single_sample_plot\n",
    "    }\n",
    "    else {\n",
    "      multi_sample_plot <- multi_sample_plot + single_sample_plot\n",
    "    }\n",
    "  }\n",
    "  multi_sample_plot\n",
    "}"
   ]
  },
  {
   "cell_type": "markdown",
   "id": "755064ed-b6ae-4841-815f-7d8b90532283",
   "metadata": {},
   "source": [
    "## Stichprobe t-Verteilung (df=3) vs. Normalverteilung zu verschiedenen Konfidenzniveaus"
   ]
  },
  {
   "cell_type": "code",
   "execution_count": null,
   "id": "af2916d7-e3b1-47e4-92a8-908ce9247de0",
   "metadata": {},
   "outputs": [],
   "source": [
    "options(repr.plot.width=15, repr.plot.height=10)\n",
    "set.seed(13)\n",
    "norm_ref_plot <- \n",
    "  create_ggplots_from_sample_func(NULL, \n",
    "                                  partial_func(rt, df = 3),\n",
    "                                  \"norm\", list(mean = 0, sd = 1),\n",
    "                                  conf_levels = c(0.99, 0.95, 0.8), \n",
    "                                  band_alpha=0.9)\n",
    "print(norm_ref_plot)"
   ]
  },
  {
   "cell_type": "markdown",
   "id": "a546c615-3424-48ed-9b24-0743149d1429",
   "metadata": {},
   "source": [
    "## Stichproben Chi-Quadrat-Verteilung vs. Theoretische Verteilung"
   ]
  },
  {
   "cell_type": "code",
   "execution_count": null,
   "id": "d52c674f-daeb-4657-a26d-d6f8e12290c4",
   "metadata": {},
   "outputs": [],
   "source": [
    "chi_square_ref_plot <- \n",
    "  create_ggplots_from_sample_func(NULL, \n",
    "                                  partial_func(rchisq, df = 7),\n",
    "                                  \"chisq\", list(df = 7),\n",
    "                                  conf_levels = c(0.99, 0.95, 0.8), \n",
    "                                  band_alpha=0.9)\n",
    "\n",
    "print(chi_square_ref_plot)"
   ]
  },
  {
   "cell_type": "code",
   "execution_count": null,
   "id": "244eb272-31bf-4403-81f8-a5d4072598db",
   "metadata": {},
   "outputs": [],
   "source": [
    "t_distribution_plot <- function(df) {\n",
    "  set.seed(13)\n",
    "  gg <- create_ggplots_from_sample_func(NULL, \n",
    "                                        partial_func(rt, df = df),\n",
    "                                        \"norm\", list(mean = 0, sd = 1),\n",
    "                                        band_alpha=0.5,\n",
    "                                        count = 6)\n",
    "  gg + \n",
    "    plot_annotation(title = sprintf(\"QQ-Plot Stichprobe t-Verteilung (df=%d) vs. Normalverteilung\",df),\n",
    "                    theme = theme(plot.title = element_text(size=20, color = \"black\", hjust = 0.5)))\n",
    "}"
   ]
  },
  {
   "cell_type": "code",
   "execution_count": null,
   "id": "175e56ae-0c64-450e-8f3a-d3e6ce5848ef",
   "metadata": {},
   "outputs": [],
   "source": [
    "print(t_distribution_plot(2))"
   ]
  },
  {
   "cell_type": "code",
   "execution_count": null,
   "id": "f74b9d4b-bbba-40c5-b21e-c2ede7fd75ae",
   "metadata": {},
   "outputs": [],
   "source": [
    "print(t_distribution_plot(7))"
   ]
  }
 ],
 "metadata": {
  "kernelspec": {
   "display_name": "R",
   "language": "R",
   "name": "ir"
  },
  "language_info": {
   "codemirror_mode": "r",
   "file_extension": ".r",
   "mimetype": "text/x-r-source",
   "name": "R",
   "pygments_lexer": "r",
   "version": "4.4.2"
  }
 },
 "nbformat": 4,
 "nbformat_minor": 5
}
