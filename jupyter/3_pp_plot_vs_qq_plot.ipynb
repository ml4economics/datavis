{
 "cells": [
  {
   "cell_type": "code",
   "execution_count": null,
   "id": "4e3b6c62-bf7b-4db6-8512-9a90d816d48a",
   "metadata": {},
   "outputs": [],
   "source": [
    "source(\"../jupyter/util.R\")\n",
    "library(repr)\n",
    "options(warn = -1)"
   ]
  },
  {
   "cell_type": "markdown",
   "id": "57501a58-2074-4c76-99a2-1486f16b2635",
   "metadata": {},
   "source": [
    "## Normalverteilung mit verschiedenen Standardabweichungen"
   ]
  },
  {
   "cell_type": "markdown",
   "id": "149927c5-f316-4406-a87b-4c7c281f4cc5",
   "metadata": {},
   "source": [
    "Betrachte drei Normalverteilungen mit Standardabweichung $\\sigma = \\frac{1}{2}, 1, 2$"
   ]
  },
  {
   "cell_type": "code",
   "execution_count": null,
   "id": "e279dd64-5bd8-442e-9e1a-943b10bcfc9d",
   "metadata": {},
   "outputs": [],
   "source": [
    "mu <- 0  \n",
    "sd_values <- c(0.5, 1, 2) "
   ]
  },
  {
   "cell_type": "markdown",
   "id": "32decbcb-e14c-411e-92c8-caece679228b",
   "metadata": {},
   "source": [
    "## Dichtefunktionen"
   ]
  },
  {
   "cell_type": "code",
   "execution_count": null,
   "id": "0aef259c-06de-40d5-ad33-2d8f683e7112",
   "metadata": {},
   "outputs": [],
   "source": [
    "x <- seq(-6, 6, length.out = 200)\n",
    "\n",
    "plot_data <- data.frame(\n",
    "  x = rep(x, times = length(sd_values)),\n",
    "  y = c(dnorm(x, mean = mu, sd = sd_values[1]),\n",
    "        dnorm(x, mean = mu, sd = sd_values[2]),\n",
    "        dnorm(x, mean = mu, sd = sd_values[3])),\n",
    "  sd = factor(rep(sd_values, each = length(x)))\n",
    ")\n",
    "\n",
    "p1 <- ggplot(plot_data, aes(x = x, y = y, color = sd)) +\n",
    "  geom_line(linewidth = 1) +\n",
    "  ggtitle(\"Normalverteilungen\") +\n",
    "  xlab(\"Wert\") +\n",
    "  ylab(\"Dichte\") +\n",
    "  scale_color_discrete(name = \"Standardabweichung\")"
   ]
  },
  {
   "cell_type": "markdown",
   "id": "9ccf9073-ed48-4748-a4eb-24b76af0ce45",
   "metadata": {},
   "source": [
    "## Probability-Probability (P-P) Plots"
   ]
  },
  {
   "cell_type": "code",
   "execution_count": null,
   "id": "44af1256-4bb5-4793-973c-32a774689818",
   "metadata": {},
   "outputs": [],
   "source": [
    "x <- seq(-10, 10, length.out = 200)\n",
    "ref = pnorm(x, mean = mu, sd = sd_values[2])\n",
    "plot_data <- data.frame(\n",
    "  x = rep(ref, times = length(sd_values)),\n",
    "  y = c(pnorm(x, mean = mu, sd = sd_values[1]),\n",
    "        ref,\n",
    "        pnorm(x, mean = mu, sd = sd_values[3])),\n",
    "  sd = factor(rep(sd_values, each = length(x)))\n",
    ")\n",
    "p2 <- ggplot(plot_data, aes(x = x, y = y, color = sd)) +\n",
    "  geom_line(linewidth = 1, show.legend=FALSE) +\n",
    "  ggtitle(\"PP Plot Normalverteilungen\") +\n",
    "  xlab(\"Standardnormalverteilung\") +\n",
    "  ylab(\"Normalverteilungen\") +\n",
    "  scale_color_discrete(name = \"Standardabweichung\")"
   ]
  },
  {
   "cell_type": "markdown",
   "id": "95f78f42-1cba-4c86-9109-cb27cba77ac9",
   "metadata": {},
   "source": [
    "## Quantil-Quantil (Q-Q) Plots"
   ]
  },
  {
   "cell_type": "code",
   "execution_count": null,
   "id": "10f32407-c54e-430c-80f4-38be8b463921",
   "metadata": {},
   "outputs": [],
   "source": [
    "x <- seq(0, 1, length.out = 100)\n",
    "ref = qnorm(x, mean = mu, sd = sd_values[2])\n",
    "plot_data <- data.frame(\n",
    "  x = rep(ref, times = length(sd_values)),\n",
    "  y = c(qnorm(x, mean = mu, sd = sd_values[1]),\n",
    "        ref,\n",
    "        qnorm(x, mean = mu, sd = sd_values[3])),\n",
    "  sd = factor(rep(sd_values, each = length(x)))\n",
    ")\n",
    "\n",
    "p3 <- ggplot(plot_data, aes(x = x, y = y, color = sd)) +\n",
    "  geom_point(size=1, show.legend=FALSE) +\n",
    "  geom_abline(intercept = 0, slope = 1, linetype = \"dashed\", color = \"red\") +\n",
    "  ggtitle(\"Q-Q Plot Normalverteilungen\") +\n",
    "  xlab(\"Standardnormalverteilung\") +\n",
    "  ylab(\"Normalverteilungen\") +\n",
    "  xlim(-2.5, 2.5) +\n",
    "  ylim(-2.5, 2.5)"
   ]
  },
  {
   "cell_type": "markdown",
   "id": "8401e9db-3e8e-41db-8f8e-f1086acbfcc9",
   "metadata": {},
   "source": [
    "## Gesamte Darstellung\n",
    "Zur Anordnung von Plots s.a. [ggplot2: Elegant Graphics for Data Analysis - Arranging Plots](https://ggplot2-book.org/arranging-plots)"
   ]
  },
  {
   "cell_type": "code",
   "execution_count": null,
   "id": "7806046c-fb63-4c40-9f1e-90a192db5cf1",
   "metadata": {},
   "outputs": [],
   "source": [
    "options(repr.plot.width=15, repr.plot.height=10)\n",
    "plot_theme = jupyter_theme()\n",
    "p1_themed <- p1 + plot_theme\n",
    "p2_themed <- p2 + plot_theme\n",
    "p3_themed <- p3 + plot_theme \n",
    "\n",
    "gg <- p1_themed / (p2_themed + p3_themed) + plot_layout(guides = 'collect')\n",
    "print(gg)"
   ]
  },
  {
   "cell_type": "code",
   "execution_count": null,
   "id": "4677e630-3040-4224-8901-b958ecc1119e",
   "metadata": {},
   "outputs": [],
   "source": []
  }
 ],
 "metadata": {
  "kernelspec": {
   "display_name": "R",
   "language": "R",
   "name": "ir"
  },
  "language_info": {
   "codemirror_mode": "r",
   "file_extension": ".r",
   "mimetype": "text/x-r-source",
   "name": "R",
   "pygments_lexer": "r",
   "version": "4.4.2"
  }
 },
 "nbformat": 4,
 "nbformat_minor": 5
}
