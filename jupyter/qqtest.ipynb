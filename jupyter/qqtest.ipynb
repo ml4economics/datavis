{
 "cells": [
  {
   "cell_type": "code",
   "execution_count": null,
   "id": "73c97849-4eec-444f-8c2c-16229c3f1f4c",
   "metadata": {},
   "outputs": [],
   "source": [
    "library(qqtest)"
   ]
  },
  {
   "cell_type": "code",
   "execution_count": null,
   "id": "c2f56116-88a0-4b47-8399-e15af2a0828d",
   "metadata": {},
   "outputs": [],
   "source": [
    "qqtest(precip, main = \"Precipitation (inches/year) in 70 US cities\")"
   ]
  }
 ],
 "metadata": {
  "kernelspec": {
   "display_name": "R",
   "language": "R",
   "name": "ir"
  },
  "language_info": {
   "codemirror_mode": "r",
   "file_extension": ".r",
   "mimetype": "text/x-r-source",
   "name": "R",
   "pygments_lexer": "r",
   "version": "4.4.1"
  }
 },
 "nbformat": 4,
 "nbformat_minor": 5
}
