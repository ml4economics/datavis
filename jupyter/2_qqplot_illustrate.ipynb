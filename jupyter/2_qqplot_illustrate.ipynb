{
 "cells": [
  {
   "cell_type": "code",
   "execution_count": null,
   "id": "1639cd6e-94b1-44cf-8b3d-b2a4e2ceb3fb",
   "metadata": {},
   "outputs": [],
   "source": [
    "source(\"util.R\")"
   ]
  },
  {
   "cell_type": "code",
   "execution_count": null,
   "id": "c69c248d-bd01-4c1a-9de0-cf40db95a481",
   "metadata": {},
   "outputs": [],
   "source": [
    "create_plot <- function(data, xlab, ylab, color, title) {\n",
    "  ggplot(data, \n",
    "         aes(x = x, y = y)) + \n",
    "         geom_line(color = color) +\n",
    "         xlab(xlab) + \n",
    "         ylab(ylab) + \n",
    "         ggtitle(title) +\n",
    "         jupyter_theme()\n",
    "}"
   ]
  },
  {
   "cell_type": "code",
   "execution_count": null,
   "id": "8d7eee38-3133-4e0f-b8f1-f53d37a56232",
   "metadata": {},
   "outputs": [],
   "source": [
    "illustrate_qqplot <- function(x_low, x_high,\n",
    "                              ref_distribution, ref_dfunc, ref_qfunc,\n",
    "                              test_distribution, test_dfunc, test_qfunc) {\n",
    "  samples <- seq(x_low, x_high, length.out = 100)\n",
    "  ref_prob  <- ref_dfunc(q = samples)\n",
    "  test_prob <- test_dfunc(q = samples)\n",
    "  \n",
    "  ref_data  <- data.frame(x = samples,   y = ref_prob)\n",
    "  test_data <- data.frame(x = test_prob, y = samples)\n",
    "  \n",
    "  ref_quantiles <- ref_qfunc(ref_prob)\n",
    "  test_quantiles <- test_qfunc(ref_prob)\n",
    "  first_index <- which(test_quantiles > x_low)[1]\n",
    "  below_x_high <- which(test_quantiles < x_high)\n",
    "  last_index <- below_x_high[length(below_x_high)]\n",
    "  qq_data <- data.frame(x = ref_quantiles[first_index:last_index], y = test_quantiles[first_index:last_index])\n",
    "  \n",
    "  test_plot <- create_plot(test_data, \"p\", \"x\", \"blue\", test_distribution)\n",
    "  qq_plot   <- create_plot(qq_data, NULL, NULL, \"black\", \"QQ-Plot\")\n",
    "  qq_plot   <- qq_plot + geom_abline(intercept = 0, slope = 1, color = \"red\", linetype = \"dashed\")\n",
    "  ref_plot  <- create_plot(ref_data, \"x\", \"p\", \"green\", ref_distribution)\n",
    "  \n",
    "  (test_plot | qq_plot) / (empty_plot() | ref_plot) +\n",
    "    plot_layout(heights = c(1, 1))\n",
    "}"
   ]
  },
  {
   "cell_type": "code",
   "execution_count": null,
   "id": "fe6779b5-4b83-4307-bf1b-ae758e18ec73",
   "metadata": {},
   "outputs": [],
   "source": [
    "illustrate_qqnorm <- function(test_distribution, test_dfunc, test_qfunc) {\n",
    "  x_low = -3\n",
    "  x_high = 3\n",
    "  ref_distribution = \"Standardnormalverteilung\"\n",
    "  ref_dfunc = pnorm\n",
    "  ref_qfunc = qnorm\n",
    "  illustrate_qqplot(x_low, x_high,\n",
    "                    ref_distribution, ref_dfunc, ref_qfunc,\n",
    "                    test_distribution, test_dfunc, test_qfunc)\n",
    "}"
   ]
  },
  {
   "cell_type": "code",
   "execution_count": null,
   "id": "5ee6d851-671a-4212-8c41-00794386fdab",
   "metadata": {},
   "outputs": [],
   "source": [
    "qqnorm_t_distribution <- function(df) {\n",
    "  test_distribution = sprintf(\"t-Verteilung df=%d\",df)\n",
    "  test_dfunc = partial_func(pt, df=df)\n",
    "  test_qfunc = partial_func(qt, df=df)\n",
    "  \n",
    "  illustrate_qqnorm(test_distribution, test_dfunc, test_qfunc)\n",
    "}"
   ]
  },
  {
   "cell_type": "code",
   "execution_count": null,
   "id": "865fb15e-f6e8-4e72-a5a3-6224e3034491",
   "metadata": {},
   "outputs": [],
   "source": [
    "options(repr.plot.width=12, repr.plot.height=12)\n",
    "gg <- qqnorm_t_distribution(1)\n",
    "print(gg)"
   ]
  },
  {
   "cell_type": "code",
   "execution_count": null,
   "id": "bd751e5b-a0fd-43c0-b904-83c7b9f457e8",
   "metadata": {},
   "outputs": [],
   "source": [
    "gg <- qqnorm_t_distribution(10)\n",
    "print(gg)"
   ]
  },
  {
   "cell_type": "code",
   "execution_count": null,
   "id": "a9e71fba-aa72-409f-b21f-1979d1ac1a05",
   "metadata": {},
   "outputs": [],
   "source": []
  }
 ],
 "metadata": {
  "kernelspec": {
   "display_name": "R",
   "language": "R",
   "name": "ir"
  },
  "language_info": {
   "codemirror_mode": "r",
   "file_extension": ".r",
   "mimetype": "text/x-r-source",
   "name": "R",
   "pygments_lexer": "r",
   "version": "4.4.2"
  }
 },
 "nbformat": 4,
 "nbformat_minor": 5
}
