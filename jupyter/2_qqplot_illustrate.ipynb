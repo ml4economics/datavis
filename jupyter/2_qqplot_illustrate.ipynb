{
 "cells": [
  {
   "cell_type": "code",
   "execution_count": null,
   "id": "1639cd6e-94b1-44cf-8b3d-b2a4e2ceb3fb",
   "metadata": {},
   "outputs": [],
   "source": [
    "source(\"util.R\")"
   ]
  },
  {
   "cell_type": "code",
   "execution_count": null,
   "id": "c69c248d-bd01-4c1a-9de0-cf40db95a481",
   "metadata": {},
   "outputs": [],
   "source": [
    "densities_plot <- function(samples, \n",
    "                           distribution1, dfunc1, \n",
    "                           distribution2, dfunc2, \n",
    "                           color1, color2, title) {\n",
    "  data <- data.frame(x = samples, \n",
    "                     density1 = dfunc1(samples), \n",
    "                     density2 = dfunc2(samples))\n",
    "  gg <- ggplot(data) +\n",
    "    geom_line(aes(x = samples, y = density1, color = \"color1\")) +\n",
    "    geom_line(aes(x = samples, y = density2, color = \"color2\")) +\n",
    "    xlab(\"x\") + ylab(\"p\") +\n",
    "    ggtitle(title) +\n",
    "    scale_color_manual(name = NULL, \n",
    "                       values = c(\"color1\" = color1, \"color2\" = color2), \n",
    "                       labels = c(distribution1, distribution2) ) +\n",
    "    theme(legend.background = element_rect(fill = \"white\", color = \"black\"))\n",
    "}"
   ]
  },
  {
   "cell_type": "code",
   "execution_count": null,
   "id": "1b1aceb2-3e96-4ba3-9a4e-d54792995e93",
   "metadata": {},
   "outputs": [],
   "source": [
    "illustrate_qqplot <- function(x_low, x_high,\n",
    "                              ref_distribution, ref_dfunc, ref_pfunc, ref_qfunc,\n",
    "                              test_distribution, test_dfunc, test_pfunc, test_qfunc,\n",
    "                              theme) {\n",
    "  \n",
    "  samples <- seq(x_low, x_high, length.out = 100)\n",
    "  ref_prob  <- ref_pfunc(q = samples)\n",
    "  test_prob <- test_pfunc(q = samples)\n",
    "  \n",
    "  ref_data  <- data.frame(x = samples,   y = ref_prob)\n",
    "  test_data <- data.frame(x = test_prob, y = samples)\n",
    "  \n",
    "  ref_quantiles <- ref_qfunc(ref_prob)\n",
    "  test_quantiles <- test_qfunc(ref_prob)\n",
    "  first_index <- which(test_quantiles > x_low)[1]\n",
    "  below_x_high <- which(test_quantiles < x_high)\n",
    "  last_index <- below_x_high[length(below_x_high)]\n",
    "  qq_data <- data.frame(x = ref_quantiles[first_index:last_index], y = test_quantiles[first_index:last_index])\n",
    "\n",
    "  ref_color = \"green\"\n",
    "  test_color = \"blue\"\n",
    "  densities <- densities_plot(samples, \n",
    "                              ref_distribution, ref_dfunc, \n",
    "                              test_distribution, test_dfunc, \n",
    "                              ref_color, test_color, \"Dichtefunktionen\") + theme\n",
    "  test_cdf <- simple_ggplot(test_data, \"p\", \"x\", test_color, \"Testverteilung\") + theme\n",
    "  ref_cdf <- simple_ggplot(ref_data, \"x\", \"p\", ref_color, \"Referenzverteilung\") + theme\n",
    "  \n",
    "  qq_plot <- simple_ggplot(qq_data, NULL, NULL, \"black\", \"QQ-Plot\")\n",
    "  qq_plot <- qq_plot + geom_abline(intercept = 0, slope = 1, color = \"red\", linetype = \"dashed\")\n",
    "  qq_plot <- qq_plot + theme\n",
    "  \n",
    "  (test_cdf | qq_plot) / (densities | ref_cdf) +\n",
    "    plot_layout(heights = c(1, 1), guides = 'collect') \n",
    "}"
   ]
  },
  {
   "cell_type": "code",
   "execution_count": null,
   "id": "fe6779b5-4b83-4307-bf1b-ae758e18ec73",
   "metadata": {},
   "outputs": [],
   "source": [
    "illustrate_qqnorm <- function(test_distribution, test_dfunc, test_pfunc, test_qfunc) {\n",
    "  illustrate_qqplot(-3, 3,\n",
    "                    \"Standardnormalverteilung\", dnorm, pnorm, qnorm, \n",
    "                    test_distribution, test_dfunc, test_pfunc, test_qfunc,\n",
    "                    theme_jupyter() + theme_squared())\n",
    "}"
   ]
  },
  {
   "cell_type": "code",
   "execution_count": null,
   "id": "5ee6d851-671a-4212-8c41-00794386fdab",
   "metadata": {},
   "outputs": [],
   "source": [
    "qqnorm_t_distribution <- function(df) {\n",
    "  illustrate_qqnorm(sprintf(\"t-Verteilung df=%d\",df),\n",
    "                    partial_func(dt, df=df),\n",
    "                    partial_func(pt, df=df),\n",
    "                    partial_func(qt, df=df))\n",
    "}"
   ]
  },
  {
   "cell_type": "markdown",
   "id": "79b2cc15-497a-4e7e-bd46-251d60b63092",
   "metadata": {},
   "source": [
    "## QQ-Plot t-Verteilung (df=1)"
   ]
  },
  {
   "cell_type": "code",
   "execution_count": null,
   "id": "865fb15e-f6e8-4e72-a5a3-6224e3034491",
   "metadata": {},
   "outputs": [],
   "source": [
    "options(repr.plot.width=15, repr.plot.height=15)\n",
    "gg <- qqnorm_t_distribution(1)\n",
    "print(gg)"
   ]
  },
  {
   "cell_type": "code",
   "execution_count": null,
   "id": "4bdc1167-f4b1-4078-9b44-20da85277ba1",
   "metadata": {},
   "outputs": [],
   "source": [
    "## QQ-Plot t-Verteilung (df=10)"
   ]
  },
  {
   "cell_type": "code",
   "execution_count": null,
   "id": "bd751e5b-a0fd-43c0-b904-83c7b9f457e8",
   "metadata": {},
   "outputs": [],
   "source": [
    "gg <- qqnorm_t_distribution(10)\n",
    "print(gg)"
   ]
  },
  {
   "cell_type": "code",
   "execution_count": null,
   "id": "f064a346-60de-44de-9d67-2b53e406fa55",
   "metadata": {},
   "outputs": [],
   "source": []
  }
 ],
 "metadata": {
  "kernelspec": {
   "display_name": "R",
   "language": "R",
   "name": "ir"
  },
  "language_info": {
   "codemirror_mode": "r",
   "file_extension": ".r",
   "mimetype": "text/x-r-source",
   "name": "R",
   "pygments_lexer": "r",
   "version": "4.4.2"
  }
 },
 "nbformat": 4,
 "nbformat_minor": 5
}
