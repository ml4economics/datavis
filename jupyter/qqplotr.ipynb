{
 "cells": [
  {
   "cell_type": "code",
   "execution_count": null,
   "id": "df0a4093-f9ec-4581-abed-56c6ca2da8c4",
   "metadata": {},
   "outputs": [],
   "source": [
    "library(qqplotr, warn.conflicts=FALSE)"
   ]
  },
  {
   "cell_type": "markdown",
   "id": "b908ca9c-ae7a-452e-a353-da8659d23c16",
   "metadata": {},
   "source": [
    "### Plotfunktion"
   ]
  },
  {
   "cell_type": "code",
   "execution_count": null,
   "id": "1826885c-2f4f-4461-a42d-6436b2bb2710",
   "metadata": {},
   "outputs": [],
   "source": [
    "create_ggplot <- function(distribution, dname, dparams, title) {\n",
    "  set.seed(0)\n",
    "  smp <- data.frame(samples = distribution(100))\n",
    "  ggplot(data = smp, mapping = aes(sample = samples)) +\n",
    "    stat_qq_band(distribution=dname, dparams = dparams, fill = \"lightblue\", alpha = 0.5) +\n",
    "    stat_qq_line(distribution=dname, dparams = dparams) +\n",
    "    stat_qq_point(distribution=dname, dparams = dparams) +\n",
    "    ggtitle(title) +\n",
    "    labs(x = \"Theoretische Quantile\", y = \"Stichprobenquantile\") +\n",
    "    theme(\n",
    "      plot.title = element_text(hjust = 0.5)\n",
    "    )  \n",
    "}"
   ]
  },
  {
   "cell_type": "markdown",
   "id": "a98c3e54-355a-4334-8ba9-115e85baeb65",
   "metadata": {},
   "source": [
    "### Verteilung"
   ]
  },
  {
   "cell_type": "code",
   "execution_count": null,
   "id": "1ca0509a-3ea6-4880-adbc-f9645473ec69",
   "metadata": {},
   "outputs": [],
   "source": [
    "distribution <- function(n) {\n",
    "  rchisq(df=10, n=n)\n",
    "}\n",
    "dname <- \"chisq\"\n",
    "dparams <- list(df = 10)"
   ]
  },
  {
   "cell_type": "markdown",
   "id": "ccc32df6-5e9b-4764-bdab-d2d556c94e0b",
   "metadata": {},
   "source": [
    "### Plot"
   ]
  },
  {
   "cell_type": "code",
   "execution_count": null,
   "id": "3576c665-26af-4f76-b08e-a6b5e34c4962",
   "metadata": {},
   "outputs": [],
   "source": [
    "gg <- create_ggplot(distribution, dname, dparams, \"QQ Plot with Chi-Squared Distribution (df = 10)\")\n",
    "gg"
   ]
  }
 ],
 "metadata": {
  "kernelspec": {
   "display_name": "R",
   "language": "R",
   "name": "ir"
  },
  "language_info": {
   "codemirror_mode": "r",
   "file_extension": ".r",
   "mimetype": "text/x-r-source",
   "name": "R",
   "pygments_lexer": "r",
   "version": "4.4.2"
  }
 },
 "nbformat": 4,
 "nbformat_minor": 5
}
