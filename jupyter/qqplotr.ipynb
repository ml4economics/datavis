{
 "cells": [
  {
   "cell_type": "code",
   "execution_count": null,
   "id": "df0a4093-f9ec-4581-abed-56c6ca2da8c4",
   "metadata": {},
   "outputs": [],
   "source": [
    "library(qqplotr, quietly=TRUE)"
   ]
  },
  {
   "cell_type": "markdown",
   "id": "b908ca9c-ae7a-452e-a353-da8659d23c16",
   "metadata": {},
   "source": [
    "### Plotfunktion"
   ]
  },
  {
   "cell_type": "code",
   "execution_count": null,
   "id": "432b2667-d592-441e-b869-13b7b8ec5d5f",
   "metadata": {},
   "outputs": [],
   "source": [
    "add_qq_band <- function(gg, distribution, dname, dparams, conf, alpha = 0.5) {\n",
    "  gg + stat_qq_band(distribution=dname, dparams = dparams, conf=conf, mapping = aes(fill = as.character(conf)), alpha = alpha)\n",
    "}"
   ]
  },
  {
   "cell_type": "code",
   "execution_count": null,
   "id": "1620d1b8-a490-4aeb-89a2-5a0f8bc8d5a0",
   "metadata": {},
   "outputs": [],
   "source": [
    "create_ggplot_from_data <- function(data, dname, dparams, title, conflevels) {\n",
    "  gg <- ggplot(data = data, mapping = aes(sample = samples))\n",
    "  for (conf in conflevels) {\n",
    "    gg <- add_qq_band(gg, distribution, dname, dparams, conf)\n",
    "  }  \n",
    "  gg <- gg + stat_qq_line(distribution=dname, dparams = dparams) \n",
    "  gg <- gg + stat_qq_point(distribution=dname, dparams = dparams)\n",
    "  gg <- gg + scale_fill_discrete(\"Confidence Level\")\n",
    "  gg <- gg + \n",
    "         labs(x = \"Theoretische Quantile\", y = \"Stichprobenquantile\") +\n",
    "         ggtitle(title) +\n",
    "         theme(plot.title = element_text(hjust = 0.5))\n",
    "  gg\n",
    "}"
   ]
  },
  {
   "cell_type": "code",
   "execution_count": null,
   "id": "1826885c-2f4f-4461-a42d-6436b2bb2710",
   "metadata": {},
   "outputs": [],
   "source": [
    "create_ggplot_from_distribution <- function(distribution, dname, dparams, title, conflevels = c(0.95)) {\n",
    "  set.seed(0)\n",
    "  smp <- data.frame(samples = distribution(100))\n",
    "  options(repr.plot.width=12, repr.plot.height=12)\n",
    "  create_ggplot_from_data(smp, dname, dparams, title, conflevels)\n",
    "}"
   ]
  },
  {
   "cell_type": "markdown",
   "id": "a98c3e54-355a-4334-8ba9-115e85baeb65",
   "metadata": {},
   "source": [
    "### Verteilung"
   ]
  },
  {
   "cell_type": "code",
   "execution_count": null,
   "id": "1ca0509a-3ea6-4880-adbc-f9645473ec69",
   "metadata": {},
   "outputs": [],
   "source": [
    "distribution <- function(n) {\n",
    "  rchisq(df=10, n=n)\n",
    "}\n",
    "dname <- \"chisq\"\n",
    "dparams <- list(df = 10)"
   ]
  },
  {
   "cell_type": "markdown",
   "id": "ccc32df6-5e9b-4764-bdab-d2d556c94e0b",
   "metadata": {},
   "source": [
    "### Plot"
   ]
  },
  {
   "cell_type": "code",
   "execution_count": null,
   "id": "3576c665-26af-4f76-b08e-a6b5e34c4962",
   "metadata": {},
   "outputs": [],
   "source": [
    "gg <- create_ggplot_from_distribution(distribution, dname, dparams, \n",
    "                                      \"QQ Plot with Chi-Squared Distribution (df = 10)\",\n",
    "                                     conflevels = c(0.9))\n",
    "gg"
   ]
  },
  {
   "cell_type": "code",
   "execution_count": null,
   "id": "3cd4c906-6c29-4fea-9d13-312034defb4a",
   "metadata": {},
   "outputs": [],
   "source": [
    "gg <- create_ggplot_from_distribution(distribution, dname, dparams, \n",
    "                                      \"QQ Plot with Chi-Squared Distribution (df = 10)\", \n",
    "                                      conflevels = c(0.9, 0.95, 0.99, 0.999))\n",
    "gg"
   ]
  },
  {
   "cell_type": "code",
   "execution_count": null,
   "id": "050e7603-f646-47e1-aa85-ad689d1055c7",
   "metadata": {},
   "outputs": [],
   "source": []
  }
 ],
 "metadata": {
  "kernelspec": {
   "display_name": "R",
   "language": "R",
   "name": "ir"
  },
  "language_info": {
   "codemirror_mode": "r",
   "file_extension": ".r",
   "mimetype": "text/x-r-source",
   "name": "R",
   "pygments_lexer": "r",
   "version": "4.4.2"
  }
 },
 "nbformat": 4,
 "nbformat_minor": 5
}
