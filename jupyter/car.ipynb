{
 "cells": [
  {
   "cell_type": "code",
   "execution_count": null,
   "id": "0eb65859-0f25-4e6b-a287-0cec74ade9e6",
   "metadata": {},
   "outputs": [],
   "source": [
    "library(car)\n",
    "suppressMessages(library(carData))\n",
    "\n",
    "qqPlot(mtcars$mpg)"
   ]
  }
 ],
 "metadata": {
  "kernelspec": {
   "display_name": "R",
   "language": "R",
   "name": "ir"
  },
  "language_info": {
   "codemirror_mode": "r",
   "file_extension": ".r",
   "mimetype": "text/x-r-source",
   "name": "R",
   "pygments_lexer": "r",
   "version": "4.4.1"
  }
 },
 "nbformat": 4,
 "nbformat_minor": 5
}
